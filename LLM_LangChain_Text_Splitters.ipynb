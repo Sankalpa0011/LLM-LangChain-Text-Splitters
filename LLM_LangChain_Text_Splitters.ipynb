{
  "nbformat": 4,
  "nbformat_minor": 0,
  "metadata": {
    "colab": {
      "provenance": [],
      "mount_file_id": "1GdeFYE9XicoI3gXq1S4Pd2zBgFVv7x8t",
      "authorship_tag": "ABX9TyNJ1o0F0p7i3HhpenRj09iq",
      "include_colab_link": true
    },
    "kernelspec": {
      "name": "python3",
      "display_name": "Python 3"
    },
    "language_info": {
      "name": "python"
    }
  },
  "cells": [
    {
      "cell_type": "markdown",
      "metadata": {
        "id": "view-in-github",
        "colab_type": "text"
      },
      "source": [
        "<a href=\"https://colab.research.google.com/github/Sankalpa0011/LLM-LangChain-Text-Splitters/blob/main/LLM_LangChain_Text_Splitters.ipynb\" target=\"_parent\"><img src=\"https://colab.research.google.com/assets/colab-badge.svg\" alt=\"Open In Colab\"/></a>"
      ]
    },
    {
      "cell_type": "code",
      "execution_count": 1,
      "metadata": {
        "id": "x22QQO6XNjcB",
        "colab": {
          "base_uri": "https://localhost:8080/"
        },
        "outputId": "0673227a-90e8-40d7-9265-a7b359666a77"
      },
      "outputs": [
        {
          "output_type": "stream",
          "name": "stdout",
          "text": [
            "Drive already mounted at /content/drive; to attempt to forcibly remount, call drive.mount(\"/content/drive\", force_remount=True).\n"
          ]
        }
      ],
      "source": [
        "from google.colab import drive\n",
        "drive.mount('/content/drive')"
      ]
    },
    {
      "cell_type": "markdown",
      "source": [
        "# **Text Splitters LangChain**"
      ],
      "metadata": {
        "id": "-HOUPJjTJwK9"
      }
    },
    {
      "cell_type": "code",
      "source": [
        "# Install necessary libraries\n",
        "!pìp install langchain -qU\n",
        "!pip install langchain-community -qU\n",
        "!pip install unstructured -qU"
      ],
      "metadata": {
        "colab": {
          "base_uri": "https://localhost:8080/"
        },
        "id": "UtVIFCYEJ0Ug",
        "outputId": "66028c00-4eaf-431e-fb58-5ef244bb2a7d"
      },
      "execution_count": 2,
      "outputs": [
        {
          "output_type": "stream",
          "name": "stdout",
          "text": [
            "/bin/bash: line 1: pìp: command not found\n"
          ]
        }
      ]
    },
    {
      "cell_type": "code",
      "source": [
        "from langchain_community.document_loaders import DirectoryLoader\n",
        "\n",
        "# Initialize the DirectoryLoader with the path to the directory for text files\n",
        "loader = DirectoryLoader('/content/drive/MyDrive/CodeProLK DL/LLM LangChain  Text Splitters/Data', glob=\"**/*.txt\")\n",
        "\n",
        "# Load the text data from the directory\n",
        "dataset = loader.load()\n",
        "\n",
        "for data in dataset:\n",
        "  print(\"\\n\\n-------------------------------------------------------------------------------------------------------------------------\")\n",
        "  print(data.page_content)\n",
        "  print(\"\\n\")\n",
        "  print(data.metadata)"
      ],
      "metadata": {
        "colab": {
          "base_uri": "https://localhost:8080/"
        },
        "id": "tB1gDhu1J4PO",
        "outputId": "5e48f07a-01ee-4a3d-f189-14516af2e4c9"
      },
      "execution_count": 3,
      "outputs": [
        {
          "output_type": "stream",
          "name": "stdout",
          "text": [
            "\n",
            "\n",
            "-------------------------------------------------------------------------------------------------------------------------\n",
            "The Evolution of the Internet\n",
            "\n",
            "The internet has dramatically transformed the way we live, work, and communicate over the past few decades. Originating from the ARPANET project in the late 1960s, the internet was initially designed for secure military communication. However, it soon expanded to academic and research institutions, and by the early 1990s, it became accessible to the general public.\n",
            "\n",
            "The development of the World Wide Web by Tim Berners-Lee in 1989 was a pivotal moment in the internet's history. This innovation allowed users to navigate the internet through web browsers, leading to the creation of websites and the vast amount of information available today. The introduction of search engines like Google further revolutionized how people access and interact with online content.\n",
            "\n",
            "With the advent of social media platforms such as Facebook, Twitter, and Instagram in the mid-2000s, the internet became a central hub for social interaction, news dissemination, and entertainment. These platforms have connected billions of people worldwide, allowing for instant communication and the sharing of ideas and experiences.\n",
            "\n",
            "E-commerce has also flourished with the growth of the internet. Companies like Amazon and eBay have redefined shopping by offering a vast array of products online, often at competitive prices. The convenience of online shopping, coupled with secure payment methods, has led to a significant shift from traditional brick-and-mortar stores to digital marketplaces.\n",
            "\n",
            "Moreover, the internet has enabled the rise of new forms of work and collaboration. Remote work, freelancing, and the gig economy have become increasingly prevalent, especially during the COVID-19 pandemic. Tools like video conferencing, cloud storage, and project management software have made it possible for teams to collaborate effectively, regardless of geographical location.\n",
            "\n",
            "However, the internet is not without its challenges. Issues such as data privacy, cybersecurity threats, and the digital divide—where certain populations have limited or no access to the internet—remain significant concerns. Governments, organizations, and individuals must work together to address these issues and ensure that the internet remains a safe, inclusive, and beneficial resource for all.\n",
            "\n",
            "Looking to the future, the internet will continue to evolve with advancements in technology such as artificial intelligence, the Internet of Things (IoT), and 5G networks. These innovations promise to further integrate the internet into our daily lives, making it an even more powerful tool for communication, commerce, and creativity.\n",
            "\n",
            "In conclusion, the internet has come a long way from its early days as a military communication network. It has revolutionized nearly every aspect of modern life, providing unprecedented access to information, connecting people across the globe, and driving economic growth. As we move forward, it is crucial to address the challenges that come with this powerful technology and harness its potential to create a better, more connected world.\n",
            "\n",
            "\n",
            "{'source': '/content/drive/MyDrive/CodeProLK DL/LLM LangChain  Text Splitters/Data/text2.txt'}\n",
            "\n",
            "\n",
            "-------------------------------------------------------------------------------------------------------------------------\n",
            "The Importance of Sleep\n",
            "\n",
            "Sleep is a vital component of human health and well-being. It allows the body to repair itself and the brain to consolidate memories and process information. Adults typically need 7-9 hours of sleep per night, while children and teenagers require more. During sleep, the body goes through various stages, including light sleep, deep sleep, and REM (rapid eye movement) sleep, each playing a crucial role in physical and mental restoration.\n",
            "\n",
            "Poor sleep can lead to a range of health issues, including impaired cognitive function, weakened immune system, and increased risk of chronic conditions such as obesity, diabetes, and cardiovascular disease. Sleep deprivation affects concentration, productivity, and can even influence mood and behavior, contributing to mental health problems like anxiety and depression. Therefore, maintaining good sleep hygiene is essential for overall health. This includes keeping a regular sleep schedule, creating a restful environment, and avoiding stimulants such as caffeine and electronics before bed.\n",
            "\n",
            "In addition to personal habits, societal factors also play a role in sleep health. Modern lifestyles, with their emphasis on long working hours and constant connectivity, often prioritize productivity over rest. Public health initiatives aimed at raising awareness about the importance of sleep and encouraging healthier sleep practices can help address these issues on a larger scale.\n",
            "\n",
            "By understanding the critical role that sleep plays in our lives and making it a priority, we can improve not only our individual health and well-being but also contribute to a healthier, more productive society.\n",
            "\n",
            "\n",
            "{'source': '/content/drive/MyDrive/CodeProLK DL/LLM LangChain  Text Splitters/Data/text1.txt'}\n"
          ]
        }
      ]
    },
    {
      "cell_type": "code",
      "source": [
        "# Calculate the token count of each document in tha dataset using a character level tokenizer\n",
        "token_counts = [len(data.page_content) for data in dataset]\n",
        "print(\"Character Level Tokenizer Token Counts: \", token_counts)"
      ],
      "metadata": {
        "colab": {
          "base_uri": "https://localhost:8080/"
        },
        "id": "RevQsCCcLNo0",
        "outputId": "9d1701ad-fbf9-4ae1-d7ec-405eb2960223"
      },
      "execution_count": 4,
      "outputs": [
        {
          "output_type": "stream",
          "name": "stdout",
          "text": [
            "Character Level Tokenizer Token Counts:  [3066, 1663]\n"
          ]
        }
      ]
    },
    {
      "cell_type": "markdown",
      "source": [
        "## **Calculate Token Count Using Tiktoken**\n",
        "\n",
        "This tiktoken technique use when use like chat gpt models/llm models"
      ],
      "metadata": {
        "id": "Z-2a8DNWL3xi"
      }
    },
    {
      "cell_type": "code",
      "source": [
        "# Install the tiktoken package for tokenization\n",
        "!pip install tiktoken -qU"
      ],
      "metadata": {
        "id": "gM0PTzHEL0c9"
      },
      "execution_count": 5,
      "outputs": []
    },
    {
      "cell_type": "code",
      "source": [
        "import tiktoken\n",
        "\n",
        "tokenizer_model = tiktoken.encoding_for_model('gpt-3.5-turbo')\n",
        "print(\"Tokenizer Model: \", tokenizer_model)"
      ],
      "metadata": {
        "colab": {
          "base_uri": "https://localhost:8080/"
        },
        "id": "Vy606Ml5MUTj",
        "outputId": "9d421fdd-b8c3-4a1f-aa9d-92f77ae353cc"
      },
      "execution_count": 6,
      "outputs": [
        {
          "output_type": "stream",
          "name": "stdout",
          "text": [
            "Tokenizer Model:  <Encoding 'cl100k_base'>\n"
          ]
        }
      ]
    },
    {
      "cell_type": "code",
      "source": [
        "# Get the encoding for the tokenizer\n",
        "tokenizer = tiktoken.get_encoding(\"cl100k_base\")\n",
        "\n",
        "# Create a function to calculate the length of text in tokens using tiktoken\n",
        "def tiktoken_len(text):\n",
        "    tokens = tokenizer.encode(text)\n",
        "    token_count = len(tokens)\n",
        "    return token_count"
      ],
      "metadata": {
        "id": "xWGGZqiTMj1v"
      },
      "execution_count": 7,
      "outputs": []
    },
    {
      "cell_type": "code",
      "source": [
        "# Calculate the token count of each document in the dataset using tiktoken\n",
        "token_counts = [tiktoken_len(data.page_content) for data in dataset]\n",
        "print(\"Tiktoken Token Counts: \", token_counts)"
      ],
      "metadata": {
        "colab": {
          "base_uri": "https://localhost:8080/"
        },
        "id": "E0WDQumRNUTD",
        "outputId": "25d601e9-51e0-4ac9-f79a-f95790144bc5"
      },
      "execution_count": 8,
      "outputs": [
        {
          "output_type": "stream",
          "name": "stdout",
          "text": [
            "Tiktoken Token Counts:  [557, 293]\n"
          ]
        }
      ]
    },
    {
      "cell_type": "markdown",
      "source": [
        "# **Chunking The Text Using RecursiveCharacterTextSplitter**"
      ],
      "metadata": {
        "id": "sEjIRVVaNmp7"
      }
    },
    {
      "cell_type": "code",
      "source": [
        "from langchain.text_splitter import RecursiveCharacterTextSplitter\n",
        "\n",
        "# Initialize the text splitter with a chunk size of 150 and no overlap, using character length function\n",
        "text_splitter = RecursiveCharacterTextSplitter(\n",
        "    chunk_size = 150,\n",
        "    chunk_overlap = 0,\n",
        "    length_function = len,  #  len means usual characters count\n",
        "    separators=['\\n\\n', '\\n', ' ', '']\n",
        ")"
      ],
      "metadata": {
        "id": "pDbAAz_7NcXr"
      },
      "execution_count": 9,
      "outputs": []
    },
    {
      "cell_type": "code",
      "source": [
        "# Split the text of the second document in the dataset into chunks\n",
        "chunks = text_splitter.split_text(dataset[1].page_content)\n",
        "\n",
        "len(chunks)"
      ],
      "metadata": {
        "colab": {
          "base_uri": "https://localhost:8080/"
        },
        "id": "X289J7WZPNKx",
        "outputId": "e3c2fcc6-c343-4a44-cab5-795f8974c688"
      },
      "execution_count": 10,
      "outputs": [
        {
          "output_type": "execute_result",
          "data": {
            "text/plain": [
              "15"
            ]
          },
          "metadata": {},
          "execution_count": 10
        }
      ]
    },
    {
      "cell_type": "code",
      "source": [
        "print(chunks[0])\n",
        "print(\"Tokens\", len(chunks[0]))\n",
        "print(chunks[1])\n",
        "print(\"Tokens\",len(chunks[1]))"
      ],
      "metadata": {
        "colab": {
          "base_uri": "https://localhost:8080/"
        },
        "id": "0y4_mmmoPbII",
        "outputId": "e3aaf6d6-4f94-45a8-bd28-b70a375464f7"
      },
      "execution_count": 11,
      "outputs": [
        {
          "output_type": "stream",
          "name": "stdout",
          "text": [
            "The Importance of Sleep\n",
            "Tokens 23\n",
            "Sleep is a vital component of human health and well-being. It allows the body to repair itself and the brain to consolidate memories and process\n",
            "Tokens 144\n"
          ]
        }
      ]
    },
    {
      "cell_type": "code",
      "source": [
        "# Reinitialize the text splitter with a chunk size of 150 and an overlap of 20, using character length fuction\n",
        "text_splitter = RecursiveCharacterTextSplitter(\n",
        "    chunk_size = 150,\n",
        "    chunk_overlap = 20,\n",
        "    length_function = len,\n",
        "    separators = [\"\\n\\n\", \"\\n\", \" \", \"\"]\n",
        ")"
      ],
      "metadata": {
        "id": "vP9NaL5gPc_n"
      },
      "execution_count": 12,
      "outputs": []
    },
    {
      "cell_type": "code",
      "source": [
        "# Split the text of the second document in the dataset into chunks\n",
        "chunks = text_splitter.split_text(dataset[1].page_content)\n",
        "\n",
        "len(chunks)"
      ],
      "metadata": {
        "colab": {
          "base_uri": "https://localhost:8080/"
        },
        "id": "B6C3tNkRJzoD",
        "outputId": "e331e614-0a2d-46a9-9cba-b89051cbc936"
      },
      "execution_count": 13,
      "outputs": [
        {
          "output_type": "execute_result",
          "data": {
            "text/plain": [
              "15"
            ]
          },
          "metadata": {},
          "execution_count": 13
        }
      ]
    },
    {
      "cell_type": "code",
      "source": [
        "print(chunks[0])\n",
        "print(\"Tokens\", len(chunks[0]))\n",
        "print(chunks[1])\n",
        "print(\"Tokens\",len(chunks[1]))"
      ],
      "metadata": {
        "colab": {
          "base_uri": "https://localhost:8080/"
        },
        "id": "eXfLFpBHKHNw",
        "outputId": "5399dd08-e6ee-4a0e-beaf-cff95497c199"
      },
      "execution_count": 14,
      "outputs": [
        {
          "output_type": "stream",
          "name": "stdout",
          "text": [
            "The Importance of Sleep\n",
            "Tokens 23\n",
            "Sleep is a vital component of human health and well-being. It allows the body to repair itself and the brain to consolidate memories and process\n",
            "Tokens 144\n"
          ]
        }
      ]
    },
    {
      "cell_type": "markdown",
      "source": [
        "# **Chunking The Text Using Tiktoken Length Function**"
      ],
      "metadata": {
        "id": "R1K_dtAOKmK8"
      }
    },
    {
      "cell_type": "code",
      "source": [
        "# Reinitialize the text splitter with a chunk size of 150 and an overlap of 20, using tiktoken length function\n",
        "text_splitter = RecursiveCharacterTextSplitter(\n",
        "    chunk_size = 150,\n",
        "    chunk_overlap = 20,\n",
        "    length_function = tiktoken_len,\n",
        "    separators = [\"\\n\\n\", \"\\n\", \" \", \"\"]\n",
        ")"
      ],
      "metadata": {
        "id": "6hkx0W5FKtx-"
      },
      "execution_count": 15,
      "outputs": []
    },
    {
      "cell_type": "code",
      "source": [
        "# Split the text of the second document in the dataset into chunks\n",
        "chunks = text_splitter.split_text(dataset[1].page_content)\n",
        "\n",
        "len(chunks)"
      ],
      "metadata": {
        "colab": {
          "base_uri": "https://localhost:8080/"
        },
        "id": "HHaj0urhL8xn",
        "outputId": "df278c59-de8a-4a20-b071-818a4f599f5d"
      },
      "execution_count": 16,
      "outputs": [
        {
          "output_type": "execute_result",
          "data": {
            "text/plain": [
              "3"
            ]
          },
          "metadata": {},
          "execution_count": 16
        }
      ]
    },
    {
      "cell_type": "code",
      "source": [
        "print(chunks[0])\n",
        "print(\"Tokens\", tiktoken_len(chunks[0]))\n",
        "print(chunks[1])\n",
        "print(\"Tokens\",tiktoken_len(chunks[1]))"
      ],
      "metadata": {
        "colab": {
          "base_uri": "https://localhost:8080/"
        },
        "id": "EuC3gmfOMH_N",
        "outputId": "832aa282-83e0-4775-84d0-0da349511e6e"
      },
      "execution_count": 17,
      "outputs": [
        {
          "output_type": "stream",
          "name": "stdout",
          "text": [
            "The Importance of Sleep\n",
            "\n",
            "Sleep is a vital component of human health and well-being. It allows the body to repair itself and the brain to consolidate memories and process information. Adults typically need 7-9 hours of sleep per night, while children and teenagers require more. During sleep, the body goes through various stages, including light sleep, deep sleep, and REM (rapid eye movement) sleep, each playing a crucial role in physical and mental restoration.\n",
            "Tokens 91\n",
            "Poor sleep can lead to a range of health issues, including impaired cognitive function, weakened immune system, and increased risk of chronic conditions such as obesity, diabetes, and cardiovascular disease. Sleep deprivation affects concentration, productivity, and can even influence mood and behavior, contributing to mental health problems like anxiety and depression. Therefore, maintaining good sleep hygiene is essential for overall health. This includes keeping a regular sleep schedule, creating a restful environment, and avoiding stimulants such as caffeine and electronics before bed.\n",
            "Tokens 100\n"
          ]
        }
      ]
    }
  ]
}